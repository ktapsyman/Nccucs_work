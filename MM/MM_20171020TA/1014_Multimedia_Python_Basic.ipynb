{
 "cells": [
  {
   "cell_type": "markdown",
   "metadata": {
    "nbpresent": {
     "id": "5ddb3ce0-6708-4097-81ff-51dd116f336c"
    },
    "slideshow": {
     "slide_type": "slide"
    }
   },
   "source": [
    "# 每個程式語言的第一支程式\n",
    ">Hello World"
   ]
  },
  {
   "cell_type": "code",
   "execution_count": 142,
   "metadata": {
    "collapsed": false,
    "nbpresent": {
     "id": "77ccac62-8e7f-4727-a10f-026bc59ec2f3"
    },
    "slideshow": {
     "slide_type": "fragment"
    }
   },
   "outputs": [
    {
     "name": "stdout",
     "output_type": "stream",
     "text": [
      "Hello World!\n"
     ]
    }
   ],
   "source": [
    "print \"Hello World!\""
   ]
  },
  {
   "cell_type": "markdown",
   "metadata": {
    "collapsed": true,
    "nbpresent": {
     "id": "94fcaf1f-d813-48d0-8181-586ea34baf5c"
    },
    "slideshow": {
     "slide_type": "subslide"
    }
   },
   "source": [
    "> 在螢幕端印出字串 print <br>\n",
    ">\"hello world\" 用雙括號(或單括號)宣告一個字串"
   ]
  },
  {
   "cell_type": "raw",
   "metadata": {
    "collapsed": true,
    "nbpresent": {
     "id": "b7aed354-8546-4d2e-9ce0-301fdc9f362f"
    }
   },
   "source": []
  },
  {
   "cell_type": "markdown",
   "metadata": {
    "collapsed": true,
    "nbpresent": {
     "id": "2a4c659c-04a7-4ae0-9c5a-73c08576f06e"
    },
    "slideshow": {
     "slide_type": "slide"
    }
   },
   "source": [
    "# 基本資料型態\n",
    ">整數(integer)<br>\n",
    ">布林值(boolean)<br>\n",
    ">浮點數(float)<br>\n",
    ">字串(string)<br><br>\n",
    ">可以使用type()來查看變數型態"
   ]
  },
  {
   "cell_type": "markdown",
   "metadata": {
    "nbpresent": {
     "id": "a1502b86-1541-4139-84b8-9ea11eba85ef"
    }
   },
   "source": [
    "## 整數\n",
    ">整數型態為int<br>\n",
    ">在python內宣告變數的時候，除非特殊情況(轉型態)，不然不需要指定型態，python會自行偵測<br>\n",
    ">用 int() 或者 直接輸入"
   ]
  },
  {
   "cell_type": "code",
   "execution_count": 143,
   "metadata": {
    "collapsed": false,
    "nbpresent": {
     "id": "5014671c-372f-4b80-bb24-a80acf6a4f51"
    }
   },
   "outputs": [
    {
     "name": "stdout",
     "output_type": "stream",
     "text": [
      "5\n",
      "6\n",
      "1\n",
      "9\n",
      "<type 'int'>\n"
     ]
    }
   ],
   "source": [
    "a = 3\n",
    "b = int(2)\n",
    "print a+b\n",
    "print a*b\n",
    "print a-b\n",
    "#次方\n",
    "print a**b\n",
    "print type(a)"
   ]
  },
  {
   "cell_type": "markdown",
   "metadata": {
    "nbpresent": {
     "id": "8610f203-a0d5-480d-a5f3-6abc2dad1b44"
    }
   },
   "source": [
    "## 布林值\n",
    ">布林值型態為bool<br>\n",
    ">使用 True 與 False 來宣告<br>\n",
    ">python提供三個邏輯運算元： and or not"
   ]
  },
  {
   "cell_type": "code",
   "execution_count": 144,
   "metadata": {
    "collapsed": false,
    "nbpresent": {
     "id": "c5050295-59c8-45b5-9f3f-d90f06aed20c"
    }
   },
   "outputs": [
    {
     "name": "stdout",
     "output_type": "stream",
     "text": [
      "False\n",
      "True\n",
      "False\n",
      "True\n",
      "<type 'bool'>\n"
     ]
    }
   ],
   "source": [
    "a = True\n",
    "b = False\n",
    "print a and b\n",
    "print a or b\n",
    "print not a\n",
    "print not b\n",
    "print type(a)"
   ]
  },
  {
   "cell_type": "markdown",
   "metadata": {
    "nbpresent": {
     "id": "8a38b267-8db6-4b9f-87c4-408e7615851a"
    }
   },
   "source": [
    "## 浮點數\n",
    ">浮點數型態為float<br>\n",
    ">用 float() 或者 直接輸入"
   ]
  },
  {
   "cell_type": "code",
   "execution_count": 145,
   "metadata": {
    "collapsed": false,
    "nbpresent": {
     "id": "25ef71a5-1c6c-4335-a91f-0b1f0b9f043e"
    }
   },
   "outputs": [
    {
     "name": "stdout",
     "output_type": "stream",
     "text": [
      "5.2\n",
      "6.51\n",
      "1.0\n",
      "<type 'float'>\n"
     ]
    }
   ],
   "source": [
    "a = 3.1\n",
    "b = float(2.1)\n",
    "print a+b\n",
    "print a*b\n",
    "print a-b\n",
    "print type(a)"
   ]
  },
  {
   "cell_type": "markdown",
   "metadata": {
    "nbpresent": {
     "id": "762e81d6-d7eb-457e-a46d-aa93ea191f8f"
    }
   },
   "source": [
    "## 字串\n",
    ">字串型態為str<br>\n",
    ">用str() 或者 \" \" 或者 ' '來宣告"
   ]
  },
  {
   "cell_type": "code",
   "execution_count": 1,
   "metadata": {
    "collapsed": false,
    "nbpresent": {
     "id": "0761cba4-03b9-4bb5-aabe-507d66c25131"
    }
   },
   "outputs": [
    {
     "name": "stdout",
     "output_type": "stream",
     "text": [
      "Hello\n",
      "World\n",
      "<type 'str'>\n"
     ]
    }
   ],
   "source": [
    "a = \"Hello\"\n",
    "b = \"World\"\n",
    "\n",
    "print a\n",
    "print b\n",
    "print type(a)"
   ]
  },
  {
   "cell_type": "code",
   "execution_count": 147,
   "metadata": {
    "collapsed": false,
    "nbpresent": {
     "id": "a7476463-076b-4374-892a-166724f095e9"
    }
   },
   "outputs": [
    {
     "name": "stdout",
     "output_type": "stream",
     "text": [
      "大寫:\n",
      "HELLO\n",
      "Hello\n",
      "小寫:\n",
      "hello\n",
      "字串分割:\n",
      "['H', 'llo']\n",
      "H\n"
     ]
    }
   ],
   "source": [
    "# 常用的字串處理Method #\n",
    "\n",
    "#轉大寫\n",
    "print \"大寫:\"\n",
    "print a.upper()\n",
    "print a\n",
    "\n",
    "#轉小寫\n",
    "print \"小寫:\"\n",
    "print a.lower()\n",
    "\n",
    "#字串分割 return list\n",
    "print \"字串分割:\"\n",
    "print a.split('e')\n",
    "print a.split('e')[0]"
   ]
  },
  {
   "cell_type": "code",
   "execution_count": 148,
   "metadata": {
    "collapsed": false,
    "nbpresent": {
     "id": "11c71a60-ca73-455b-85d6-d21bf79ba1c7"
    }
   },
   "outputs": [
    {
     "name": "stdout",
     "output_type": "stream",
     "text": [
      " abcd \n",
      "abcd\n",
      "True\n",
      "6\n",
      "Hello World\n",
      "False\n",
      " ebcd \n"
     ]
    }
   ],
   "source": [
    "#去除空白\n",
    "c = \" abcd \"\n",
    "print c\n",
    "print c.strip()\n",
    "#檢查某字元是否出現在字串 (in)\n",
    "print 'a' in c\n",
    "\n",
    "#字串長度\n",
    "print len(c)\n",
    "\n",
    "#字串合併\n",
    "print a+ \" \" + b\n",
    "\n",
    "#字串比較\n",
    "print a==b\n",
    "\n",
    "#字串取代\n",
    "print c.replace('a','e')"
   ]
  },
  {
   "cell_type": "code",
   "execution_count": 3,
   "metadata": {
    "collapsed": false,
    "nbpresent": {
     "id": "18cb98db-5a8e-4a41-a2f5-ca29f351a5d2"
    }
   },
   "outputs": [
    {
     "ename": "TypeError",
     "evalue": "unsupported operand type(s) for +: 'int' and 'str'",
     "output_type": "error",
     "traceback": [
      "\u001b[0;31m---------------------------------------------------------------------------\u001b[0m",
      "\u001b[0;31mTypeError\u001b[0m                                 Traceback (most recent call last)",
      "\u001b[0;32m<ipython-input-3-26981f9b183f>\u001b[0m in \u001b[0;36m<module>\u001b[0;34m()\u001b[0m\n\u001b[1;32m      2\u001b[0m \u001b[0md\u001b[0m \u001b[1;33m=\u001b[0m \u001b[1;36m123\u001b[0m\u001b[1;33m\u001b[0m\u001b[0m\n\u001b[1;32m      3\u001b[0m \u001b[0me\u001b[0m \u001b[1;33m=\u001b[0m \u001b[1;34m\"456\"\u001b[0m\u001b[1;33m\u001b[0m\u001b[0m\n\u001b[0;32m----> 4\u001b[0;31m \u001b[1;32mprint\u001b[0m \u001b[0md\u001b[0m\u001b[1;33m+\u001b[0m\u001b[0me\u001b[0m\u001b[1;33m\u001b[0m\u001b[0m\n\u001b[0m",
      "\u001b[0;31mTypeError\u001b[0m: unsupported operand type(s) for +: 'int' and 'str'"
     ]
    }
   ],
   "source": [
    "#數字加上字串\n",
    "d = 123\n",
    "e = \"456\"\n",
    "print d+e"
   ]
  },
  {
   "cell_type": "code",
   "execution_count": 4,
   "metadata": {
    "collapsed": false,
    "nbpresent": {
     "id": "f5c8facc-3127-4bed-abb0-124b32478622"
    }
   },
   "outputs": [
    {
     "name": "stdout",
     "output_type": "stream",
     "text": [
      "123456\n",
      "123 456\n"
     ]
    }
   ],
   "source": [
    "print str(d)+e\n",
    "print d,e"
   ]
  },
  {
   "cell_type": "markdown",
   "metadata": {
    "nbpresent": {
     "id": "4eacb205-4e8c-4de4-b4f9-3235fe46b469"
    }
   },
   "source": [
    "# 進階(群集)資料型態\n",
    "> 序列(sequence)型態<br>\n",
    " >>Tuple 元組<br>\n",
    " >> List 串列<br>\n",
    " >> Str 字串\n",
    " \n",
    "> 集合(set)型態<br>\n",
    "> 字典(dictionary)型態<br>"
   ]
  },
  {
   "cell_type": "markdown",
   "metadata": {
    "nbpresent": {
     "id": "48d4aaf0-a8f6-498e-b840-7d7ead18bf70"
    }
   },
   "source": [
    "## Tuple\n",
    ">可以是任何物件、字串、數字、List或是Tuple<br>\n",
    ">用小括號( XXX , XXX )宣告<br> \n",
    ">宣告結束後不可對裡面的內容作修改"
   ]
  },
  {
   "cell_type": "code",
   "execution_count": 152,
   "metadata": {
    "collapsed": false,
    "nbpresent": {
     "id": "5580902e-f7e2-48b0-b908-65a5ea7d88d1"
    }
   },
   "outputs": [
    {
     "name": "stdout",
     "output_type": "stream",
     "text": [
      "('hello', 'world')\n",
      "hello\n",
      "world\n"
     ]
    }
   ],
   "source": [
    "#宣告tuple_test 為一個tuple物件\n",
    "tuple_test = ('hello','world')\n",
    "print tuple_test\n",
    "print tuple_test[0]\n",
    "print tuple_test[1]"
   ]
  },
  {
   "cell_type": "code",
   "execution_count": 190,
   "metadata": {
    "collapsed": false,
    "nbpresent": {
     "id": "f120fec4-5ee4-4a0c-826a-fbacbdfefcde"
    }
   },
   "outputs": [
    {
     "name": "stdout",
     "output_type": "stream",
     "text": [
      "Traceback (most recent call last):\n",
      "  File \"<ipython-input-190-a8f72bf3806b>\", line 3, in <module>\n",
      "    tuple_test[0] = 'test'\n",
      "TypeError: 'tuple' object does not support item assignment\n",
      "\n"
     ]
    }
   ],
   "source": [
    "import traceback\n",
    "try:\n",
    "    tuple_test[0] = 'test'\n",
    "except:\n",
    "    print traceback.format_exc()"
   ]
  },
  {
   "cell_type": "markdown",
   "metadata": {
    "nbpresent": {
     "id": "bcf7b19b-bc66-49f5-8b75-265537be9724"
    }
   },
   "source": [
    "## List\n",
    ">List 內也可以是任何物件、字串、Tuple或是List<br>\n",
    ">用 [ ] 來宣告<br>\n",
    ">宣告後可以修改裡面內容<br>"
   ]
  },
  {
   "cell_type": "code",
   "execution_count": 5,
   "metadata": {
    "collapsed": false,
    "nbpresent": {
     "id": "fc36318a-7219-49e5-8541-9aa4de91e726"
    }
   },
   "outputs": [
    {
     "name": "stdout",
     "output_type": "stream",
     "text": [
      "[] [1, 2, 3, 4, 5] [1, 'a', 2, 'b', (1, 2)] [[1, 2], [3, 4]]\n",
      "1\n",
      "[3, 4]\n"
     ]
    }
   ],
   "source": [
    "#宣告list_test 為一個空串列\n",
    "list_test = list()\n",
    "list_test2 = [1,2,3,4,5]\n",
    "list_test3 = [1,'a',2,'b',(1,2)]\n",
    "list_test4 = [[1,2],[3,4]]\n",
    "print list_test,list_test2,list_test3,list_test4\n",
    "#利用 [ index ] 來取得串列內的元素\n",
    "print list_test2[0]\n",
    "print list_test4[1]"
   ]
  },
  {
   "cell_type": "code",
   "execution_count": 155,
   "metadata": {
    "collapsed": false,
    "nbpresent": {
     "id": "fa0de34a-e7a2-4882-a705-9d1883d0c7d5"
    }
   },
   "outputs": [
    {
     "name": "stdout",
     "output_type": "stream",
     "text": [
      "Append:\n",
      "[1, 2, 3, 4]\n",
      "Insert:\n",
      "[1, 4, 2, 3]\n",
      "[1, 4, 2, 5, 3]\n",
      "[1, 4, 2, 5, 3, 6]\n",
      "Pop:\n",
      "[1, 2]\n",
      "[2]\n"
     ]
    }
   ],
   "source": [
    "#常用的串列處理Method\n",
    "\n",
    "#串接 notice:會直接對變數做修改\n",
    "print \"Append:\"\n",
    "list_append = [1,2,3]\n",
    "list_append.append(4)\n",
    "print list_append\n",
    "\n",
    "#插入\n",
    "print \"Insert:\"\n",
    "list_insert = [1,2,3]\n",
    "list_insert.insert(1,4) #在index=1的地方加入4\n",
    "print list_insert\n",
    "list_insert.insert(-1,5) # -1 為最後一個元素\n",
    "print list_insert\n",
    "list_insert.insert(len(list_insert),6)\n",
    "print list_insert\n",
    "\n",
    "#拿掉\n",
    "print \"Pop:\"\n",
    "list_pop = [1,2,3]\n",
    "list_pop.pop() #從最後一個開始拿掉\n",
    "print list_pop\n",
    "list_pop.pop(0) #可指定索引值\n",
    "print list_pop"
   ]
  },
  {
   "cell_type": "code",
   "execution_count": 11,
   "metadata": {
    "collapsed": false,
    "nbpresent": {
     "id": "75e98726-166f-4b0e-8b05-e34fc2985c89"
    }
   },
   "outputs": [
    {
     "name": "stdout",
     "output_type": "stream",
     "text": [
      "Index:\n",
      "1\n",
      "Count:\n",
      "3\n"
     ]
    }
   ],
   "source": [
    "#取得某元素的位置\n",
    "list_index = [1,2,3]\n",
    "print \"Index:\"\n",
    "print list_index.index(2)\n",
    "\n",
    "#計算某元素出現幾次\n",
    "print \"Count:\"\n",
    "list_count = [1,2,3,4,1,1]\n",
    "print list_count.count(1)"
   ]
  },
  {
   "cell_type": "code",
   "execution_count": 12,
   "metadata": {
    "collapsed": false,
    "nbpresent": {
     "id": "c58d3727-ff04-4f7a-b96e-82aa4232dc95"
    }
   },
   "outputs": [
    {
     "name": "stdout",
     "output_type": "stream",
     "text": [
      "[2, 3, 4, 5]\n",
      "[1, 2, 3, 4, 5]\n",
      "[1, 2, 3, 4]\n",
      "[6, 5, 4, 3, 2, 1]\n",
      "[1, 3, 5]\n"
     ]
    }
   ],
   "source": [
    "#List內的位置\n",
    "a = [1,2,3,4,5,6]\n",
    "print a[1:-1]\n",
    "print a[:-1]\n",
    "print a[:-2]\n",
    "print a[::-1]\n",
    "print a[::2]"
   ]
  },
  {
   "cell_type": "code",
   "execution_count": 19,
   "metadata": {
    "collapsed": false,
    "nbpresent": {
     "id": "4db2baca-b70e-4ea3-a605-b7ae4791a5c7"
    }
   },
   "outputs": [
    {
     "name": "stdout",
     "output_type": "stream",
     "text": [
      "a [1, 3, 5, 2, 4, 6]\n",
      "b [1, 3, 5, 2, 4, 6]\n",
      "a [1, 2, 3, 4, 5, 6]\n",
      "b [1, 2, 3, 4, 5, 6]\n",
      "sorted b [1, 2, 3, 4, 5, 6]\n"
     ]
    }
   ],
   "source": [
    "#排序\n",
    "a = [1,3,5,2,4,6]\n",
    "print \"a\",a\n",
    "b = a\n",
    "print \"b\",b\n",
    "a.sort()\n",
    "print \"a\",a\n",
    "print \"b\",b\n",
    "\n",
    "print \"sorted b\",sorted(b)"
   ]
  },
  {
   "cell_type": "markdown",
   "metadata": {
    "nbpresent": {
     "id": "f3bdf565-ab63-4db6-b412-4ecb7f7994e1"
    }
   },
   "source": [
    "## Set\n",
    ">物件不重複<br>\n",
    ">用 set(list)宣告"
   ]
  },
  {
   "cell_type": "code",
   "execution_count": 159,
   "metadata": {
    "collapsed": false,
    "nbpresent": {
     "id": "618183d4-5a5f-49b5-b609-6934da1c8856"
    }
   },
   "outputs": [
    {
     "name": "stdout",
     "output_type": "stream",
     "text": [
      "set([1, 2, 3])\n",
      "<type 'set'>\n"
     ]
    }
   ],
   "source": [
    "set_test = set([1,2,3,1,2,3])\n",
    "print set_test\n",
    "print type(set_test)"
   ]
  },
  {
   "cell_type": "markdown",
   "metadata": {
    "nbpresent": {
     "id": "4309a53e-4e90-4fa9-a5b6-afb930091cea"
    }
   },
   "source": [
    "## Dictionary\n",
    ">Dicionary 由 key:value組成<br>\n",
    ">key值不能重複；value值可以重複<br>\n",
    ">使用 dict() 或者大括號 {key:value,key2:value2,...} 來宣告"
   ]
  },
  {
   "cell_type": "code",
   "execution_count": 160,
   "metadata": {
    "collapsed": false,
    "nbpresent": {
     "id": "d5566a9b-6f96-4323-b123-c588c8960209"
    }
   },
   "outputs": [
    {
     "name": "stdout",
     "output_type": "stream",
     "text": [
      "{'orange': 3, 'apple': 1, 'banana': 2}\n",
      "1\n"
     ]
    }
   ],
   "source": [
    "dictionary_test = {'apple':1,'banana':2,'orange':3}\n",
    "print dictionary_test\n",
    "print dictionary_test['apple']"
   ]
  },
  {
   "cell_type": "code",
   "execution_count": 161,
   "metadata": {
    "collapsed": false,
    "nbpresent": {
     "id": "d5c2badf-3ad2-441e-a9cb-86b548d59603"
    }
   },
   "outputs": [
    {
     "name": "stdout",
     "output_type": "stream",
     "text": [
      "{'orange': 3, 'guava': 4, 'apple': 1, 'banana': 2}\n",
      "{'orange': 3, 'apple': 1, 'banana': 2}\n",
      "['orange', 'apple', 'banana']\n",
      "[3, 1, 2]\n"
     ]
    }
   ],
   "source": [
    "#增加\n",
    "dictionary_test['guava'] = 4\n",
    "print dictionary_test\n",
    "\n",
    "#刪除\n",
    "del dictionary_test['guava']\n",
    "print dictionary_test\n",
    "\n",
    "#找出所有的key值\n",
    "print dictionary_test.keys()\n",
    "#找出所有個value值\n",
    "print dictionary_test.values()"
   ]
  },
  {
   "cell_type": "markdown",
   "metadata": {
    "nbpresent": {
     "id": "646c7986-9d57-4c90-aed8-45a6cba0d0a0"
    }
   },
   "source": [
    "# 控制結構\n",
    ">條件分支(conditional branching)\n",
    ">> If...elif...\n",
    "\n",
    ">迴圈(looping)\n",
    ">> while 迴圈<br>\n",
    ">> for 迴圈<br>\n",
    "\n",
    ">在python的語法內，排版很重要"
   ]
  },
  {
   "cell_type": "markdown",
   "metadata": {
    "nbpresent": {
     "id": "501e6979-1000-4b43-9d1a-5a17524534cf"
    }
   },
   "source": [
    "## IF\n",
    ">if boolean_expression1:<br>\n",
    ">>    suite1    <br>\n",
    "\n",
    ">elif boolean_expression2:<br>\n",
    ">>    suite2\n",
    "\n",
    ">......."
   ]
  },
  {
   "cell_type": "code",
   "execution_count": 162,
   "metadata": {
    "collapsed": false,
    "nbpresent": {
     "id": "e6edb901-613c-4b6a-9148-86a44b377330"
    }
   },
   "outputs": [
    {
     "name": "stdout",
     "output_type": "stream",
     "text": [
      "variable == 5\n"
     ]
    }
   ],
   "source": [
    "testif = 5\n",
    "if testif < 4:\n",
    "    print \"variable < 4\"\n",
    "elif testif > 6:\n",
    "    print \"variable > 6\"\n",
    "elif testif == 5:\n",
    "    print \"variable == 5\""
   ]
  },
  {
   "cell_type": "markdown",
   "metadata": {
    "nbpresent": {
     "id": "67e5d590-b30c-4ae2-b48d-492d9ddbd104"
    }
   },
   "source": [
    "## While\n",
    ">while boolean_expression:\n",
    ">> while_suite\n"
   ]
  },
  {
   "cell_type": "code",
   "execution_count": 164,
   "metadata": {
    "collapsed": false,
    "nbpresent": {
     "id": "30085f01-a1f9-4571-94c8-0cf6ab62b16d"
    }
   },
   "outputs": [
    {
     "name": "stdout",
     "output_type": "stream",
     "text": [
      "1\n",
      "2\n",
      "3\n",
      "4\n"
     ]
    }
   ],
   "source": [
    "while_test = 1\n",
    "while while_test<5:\n",
    "    print while_test\n",
    "    while_test +=1"
   ]
  },
  {
   "cell_type": "markdown",
   "metadata": {
    "nbpresent": {
     "id": "54977d9b-6263-4f14-ae74-7877cb02d2c6"
    }
   },
   "source": [
    "## For\n",
    ">For expression in iterable:\n",
    ">>for_suit"
   ]
  },
  {
   "cell_type": "code",
   "execution_count": 167,
   "metadata": {
    "collapsed": false,
    "nbpresent": {
     "id": "1ad6a65f-db6d-4f1d-89b5-46a2a894346e"
    }
   },
   "outputs": [
    {
     "name": "stdout",
     "output_type": "stream",
     "text": [
      "Data Mining\n",
      "Multimedia\n",
      "Social Computing\n"
     ]
    }
   ],
   "source": [
    "course_list = ['Data Mining','Multimedia','Social Computing']\n",
    "for course in course_list:\n",
    "    print course"
   ]
  },
  {
   "cell_type": "code",
   "execution_count": 173,
   "metadata": {
    "collapsed": false,
    "nbpresent": {
     "id": "120ab16c-d51d-4170-809d-9cd6d56dec46"
    }
   },
   "outputs": [
    {
     "name": "stdout",
     "output_type": "stream",
     "text": [
      "#range:\n",
      "Data Mining\n",
      "Multimedia\n",
      "Social Computing\n",
      "\n",
      "\n",
      "#xrange:\n",
      "Data Mining\n",
      "Multimedia\n",
      "Social Computing\n"
     ]
    }
   ],
   "source": [
    "#利用給定index的方式印出串列\n",
    "\n",
    "#range\n",
    "print \"#range:\"\n",
    "for i in range(0,3):\n",
    "    print course_list[i]\n",
    "print \"\\n\"\n",
    "#xrange (建議)\n",
    "print \"#xrange:\"\n",
    "for i in xrange(0,3):\n",
    "    print course_list[i]"
   ]
  },
  {
   "cell_type": "markdown",
   "metadata": {
    "nbpresent": {
     "id": "1a2d7f5e-0516-4bcf-874b-924234e8af0e"
    }
   },
   "source": [
    "## range()與xrange的差別\n",
    ">range 是全部產生完後，return一個 list 回來使用。<br>\n",
    ">xrange 是一次產生一個值，並return一個值回來，所以xrange只適用於loop。(Generator)<br>\n",
    ">xrange在效能上面比較好(處理大量資料的時候)"
   ]
  },
  {
   "cell_type": "code",
   "execution_count": 175,
   "metadata": {
    "collapsed": false,
    "nbpresent": {
     "id": "878d8b86-2040-4d54-ab16-eb27be4e0c11"
    }
   },
   "outputs": [
    {
     "name": "stdout",
     "output_type": "stream",
     "text": [
      "[0, 1, 2, 3, 4, 5, 6, 7, 8, 9]\n",
      "xrange(10)\n"
     ]
    }
   ],
   "source": [
    "print range(10)\n",
    "print xrange(10)"
   ]
  },
  {
   "cell_type": "code",
   "execution_count": 178,
   "metadata": {
    "collapsed": false,
    "nbpresent": {
     "id": "08e7f28d-f062-42e9-b7f1-f3675f691a34"
    }
   },
   "outputs": [
    {
     "name": "stdout",
     "output_type": "stream",
     "text": [
      "[[1, 2, 3], [4, 5, 6], [7, 8, 9], [10, 11, 12]]\n",
      "Row:0,Column:0,Value:1\n",
      "Row:0,Column:1,Value:2\n",
      "Row:0,Column:2,Value:3\n",
      "Row:1,Column:0,Value:4\n",
      "Row:1,Column:1,Value:5\n",
      "Row:1,Column:2,Value:6\n",
      "Row:2,Column:0,Value:7\n",
      "Row:2,Column:1,Value:8\n",
      "Row:2,Column:2,Value:9\n",
      "Row:3,Column:0,Value:10\n",
      "Row:3,Column:1,Value:11\n",
      "Row:3,Column:2,Value:12\n"
     ]
    }
   ],
   "source": [
    "#二維陣列\n",
    "matrix = [\n",
    "    [1,2,3],\n",
    "    [4,5,6],\n",
    "    [7,8,9],\n",
    "    [10,11,12]\n",
    "]\n",
    "print matrix\n",
    "\n",
    "for i in xrange(len(matrix)):\n",
    "    for j in xrange(len(matrix[i])):\n",
    "        print \"Row:\"+str(i)+\",\"+\"Column:\"+str(j)+\",\"+\"Value:\"+str(matrix[i][j])"
   ]
  },
  {
   "cell_type": "markdown",
   "metadata": {
    "nbpresent": {
     "id": "4ce09c0b-f91d-4355-9559-ce7e73ddef39"
    }
   },
   "source": [
    "# List comprehension\n",
    "語法簡潔，效率更快"
   ]
  },
  {
   "cell_type": "code",
   "execution_count": 185,
   "metadata": {
    "collapsed": false,
    "nbpresent": {
     "id": "e8eec465-9bf1-427d-b068-ab005aed0280"
    }
   },
   "outputs": [
    {
     "name": "stdout",
     "output_type": "stream",
     "text": [
      "['kevin', 'Amy', 'Tom']\n"
     ]
    }
   ],
   "source": [
    "list_comprehension_data = [('kevin',100),('Amy',80),('Jack',40),('Tom',70)]\n",
    "list_name = list()\n",
    "#Use for to get student whose grade > 60\n",
    "for data in list_comprehension_data:\n",
    "    if data[1] > 60:\n",
    "        list_name.append(data[0])\n",
    "print list_name"
   ]
  },
  {
   "cell_type": "code",
   "execution_count": 187,
   "metadata": {
    "collapsed": false,
    "nbpresent": {
     "id": "591f7f09-7fb9-4b4b-b041-f81022794562"
    }
   },
   "outputs": [
    {
     "name": "stdout",
     "output_type": "stream",
     "text": [
      "['kevin', 'Amy', 'Tom']\n"
     ]
    }
   ],
   "source": [
    "#use list comperhension to do the same task above\n",
    "list_comprehension = [data[0] for data in list_comprehension_data if data[1]>60]\n",
    "print list_comprehension"
   ]
  },
  {
   "cell_type": "markdown",
   "metadata": {
    "nbpresent": {
     "id": "9d373777-c9c7-46aa-b9da-0ace466676bc"
    }
   },
   "source": [
    "# 自定義函式\n",
    ">def functionName ( parameters ):\n",
    ">>suite"
   ]
  },
  {
   "cell_type": "code",
   "execution_count": 179,
   "metadata": {
    "collapsed": false,
    "nbpresent": {
     "id": "eedcc4b2-a16f-498e-a75b-e194776f4034"
    }
   },
   "outputs": [
    {
     "name": "stdout",
     "output_type": "stream",
     "text": [
      "2 1\n"
     ]
    }
   ],
   "source": [
    "def swap(a,b):\n",
    "    tmp = a\n",
    "    a = b\n",
    "    b = tmp\n",
    "    return a,b\n",
    "\n",
    "func_a = 1\n",
    "func_b = 2\n",
    "swap_a,swap_b = swap(func_a,func_b)\n",
    "print swap_a,swap_b\n"
   ]
  },
  {
   "cell_type": "markdown",
   "metadata": {
    "nbpresent": {
     "id": "3c253fc6-91f5-4e03-b4de-5d9ccf228639"
    }
   },
   "source": [
    "# 檔案讀寫\n",
    ">在Python內，最基本的是使用open()函數來對檔案做讀寫<br>\n",
    ">又可分為<br>\n",
    ">>r - 讀取(檔案需存在)<br>\n",
    ">>w - 新建檔案寫入(檔案可不存在，若存在則清空)<br>\n",
    ">>a - 資料附加到舊檔案後面(游標指在EOF)<br>\n",
    ">>r+ - 讀取舊資料並寫入(檔案需存在且游標指在開頭)<br>\n",
    ">>w+ - 清空檔案內容，新寫入的東西可在讀出(檔案可不存在，會自行新增)<br>\n",
    ">>a+ - 資料附加到舊檔案後面(游標指在EOF)，可讀取資料<br>\n",
    ">>b - 二進位模式<br>\n",
    "\n",
    ">常用到的Method有<br>\n",
    ">>write() (寫入)<br>\n",
    ">>close() (關閉)<br>\n",
    ">>read() (一次讀取全部內容)<br>\n",
    ">>readline() (逐行讀取)<br>"
   ]
  },
  {
   "cell_type": "code",
   "execution_count": 20,
   "metadata": {
    "collapsed": true,
    "nbpresent": {
     "id": "451604ad-5648-41ac-8c13-d277ae45ca70"
    }
   },
   "outputs": [],
   "source": [
    "#write\n",
    "f = open(\"multimedia.txt\",\"w\")\n",
    "file_str = \"This is multimedia\\n\" + \"Hello World\\n\"\n",
    "f.write(file_str)\n",
    "f.close()"
   ]
  },
  {
   "cell_type": "code",
   "execution_count": 210,
   "metadata": {
    "collapsed": false,
    "nbpresent": {
     "id": "48a08bdd-2027-47d2-bf55-0f497388fdc9"
    }
   },
   "outputs": [],
   "source": [
    "more multimedia.txt"
   ]
  },
  {
   "cell_type": "code",
   "execution_count": 211,
   "metadata": {
    "collapsed": false,
    "nbpresent": {
     "id": "ceaa9036-5305-482c-88a9-32a41a9e3e9b"
    }
   },
   "outputs": [
    {
     "name": "stdout",
     "output_type": "stream",
     "text": [
      "This is multimedia\n",
      "Hello World\n",
      "\n"
     ]
    }
   ],
   "source": [
    "#read\n",
    "f = open(\"multimedia.txt\",\"r\")\n",
    "data = f.read()\n",
    "print data\n",
    "f.close()"
   ]
  },
  {
   "cell_type": "code",
   "execution_count": 213,
   "metadata": {
    "collapsed": false,
    "nbpresent": {
     "id": "42d14e36-c624-45b7-be51-d3c8e9aeb1eb"
    }
   },
   "outputs": [
    {
     "name": "stdout",
     "output_type": "stream",
     "text": [
      "first line: This is multimedia\n",
      "\n",
      "second line: Hello World\n",
      "\n"
     ]
    }
   ],
   "source": [
    "#readline\n",
    "f = open(\"multimedia.txt\",\"r\")\n",
    "data = f.readline()\n",
    "print \"first line:\",\n",
    "print data\n",
    "\n",
    "data = f.readline()\n",
    "print \"second line:\",\n",
    "print data\n",
    "f.close()"
   ]
  },
  {
   "cell_type": "code",
   "execution_count": 216,
   "metadata": {
    "collapsed": false,
    "nbpresent": {
     "id": "54041b59-44e3-4440-9be1-23814f35097d"
    }
   },
   "outputs": [
    {
     "name": "stdout",
     "output_type": "stream",
     "text": [
      "This is multimedia\n",
      "\n",
      "Hello World\n",
      "\n"
     ]
    }
   ],
   "source": [
    "#use loop to read the file by using readline()\n",
    "f = open(\"multimedia.txt\",\"r\")\n",
    "for line in f.readlines():\n",
    "    print line\n",
    "f.close()\n"
   ]
  },
  {
   "cell_type": "code",
   "execution_count": 217,
   "metadata": {
    "collapsed": false,
    "nbpresent": {
     "id": "dee5c6ba-9e2f-4501-a540-db33dac41b78"
    }
   },
   "outputs": [
    {
     "name": "stdout",
     "output_type": "stream",
     "text": [
      "This is multimedia\n",
      "\n",
      "Hello World\n",
      "\n"
     ]
    }
   ],
   "source": [
    "#with open的好處為在Local function跑完後會自動關檔\n",
    "with open(\"multimedia.txt\",\"r\") as f:\n",
    "    for line in f.readlines():\n",
    "        print line"
   ]
  }
 ],
 "metadata": {
  "anaconda-cloud": {},
  "celltoolbar": "Slideshow",
  "kernelspec": {
   "display_name": "Python [default]",
   "language": "python",
   "name": "python2"
  },
  "language_info": {
   "codemirror_mode": {
    "name": "ipython",
    "version": 2
   },
   "file_extension": ".py",
   "mimetype": "text/x-python",
   "name": "python",
   "nbconvert_exporter": "python",
   "pygments_lexer": "ipython2",
   "version": "2.7.12"
  },
  "nbpresent": {
   "slides": {
    "0160f145-0229-46dc-afc6-13091e258440": {
     "id": "0160f145-0229-46dc-afc6-13091e258440",
     "prev": "3be77394-6e8d-480d-bb65-2f80f510c1a1",
     "regions": {
      "f0db4e6a-a669-41e7-86ce-e6a2a53e2399": {
       "attrs": {
        "height": 0.8,
        "width": 0.8,
        "x": 0.1,
        "y": 0.1
       },
       "content": {
        "cell": "8a38b267-8db6-4b9f-87c4-408e7615851a",
        "part": "whole"
       },
       "id": "f0db4e6a-a669-41e7-86ce-e6a2a53e2399"
      }
     }
    },
    "06e423d5-e3cb-46f8-8fd7-c97547115555": {
     "id": "06e423d5-e3cb-46f8-8fd7-c97547115555",
     "prev": "81de0056-46ac-411f-87b9-98a89179f599",
     "regions": {
      "0e61f518-3b96-4e94-b5cb-c7471e34e895": {
       "attrs": {
        "height": 0.8,
        "width": 0.8,
        "x": 0.1,
        "y": 0.1
       },
       "content": {
        "cell": "a1502b86-1541-4139-84b8-9ea11eba85ef",
        "part": "whole"
       },
       "id": "0e61f518-3b96-4e94-b5cb-c7471e34e895"
      }
     }
    },
    "07940a05-ff3a-4c51-81ca-61d065bf73c0": {
     "id": "07940a05-ff3a-4c51-81ca-61d065bf73c0",
     "prev": "578d7568-35d7-4a70-ade5-ffb43807b82f",
     "regions": {
      "b9e5920e-7a23-4002-af74-1b9b9dc733a6": {
       "attrs": {
        "height": 0.8,
        "width": 0.8,
        "x": 0.1,
        "y": 0.1
       },
       "content": {
        "cell": "eedcc4b2-a16f-498e-a75b-e194776f4034",
        "part": "whole"
       },
       "id": "b9e5920e-7a23-4002-af74-1b9b9dc733a6"
      }
     }
    },
    "106e030c-8f5a-4454-b89d-4e94d3184896": {
     "id": "106e030c-8f5a-4454-b89d-4e94d3184896",
     "prev": "5a3adf13-d32f-4b8c-b98c-3b326b162136",
     "regions": {
      "b8998015-5321-4942-91f5-dfef856ae08a": {
       "attrs": {
        "height": 0.8,
        "width": 0.8,
        "x": 0.1,
        "y": 0.1
       },
       "content": {
        "cell": "5580902e-f7e2-48b0-b908-65a5ea7d88d1",
        "part": "whole"
       },
       "id": "b8998015-5321-4942-91f5-dfef856ae08a"
      }
     }
    },
    "11754688-9ff2-4cd7-92e2-c7de4c8842bf": {
     "id": "11754688-9ff2-4cd7-92e2-c7de4c8842bf",
     "prev": "a0a5edaf-ee36-4e36-9d91-ca44b1396e74",
     "regions": {
      "5e395a1e-31b8-4a49-817f-9205cb503d04": {
       "attrs": {
        "height": 0.8,
        "width": 0.8,
        "x": 0.1,
        "y": 0.1
       },
       "content": {
        "cell": "1ad6a65f-db6d-4f1d-89b5-46a2a894346e",
        "part": "whole"
       },
       "id": "5e395a1e-31b8-4a49-817f-9205cb503d04"
      }
     }
    },
    "11cc6928-8158-43f4-911c-97d1dd015b9f": {
     "id": "11cc6928-8158-43f4-911c-97d1dd015b9f",
     "prev": "6bef1222-1cdc-496c-bb61-7c24133b529f",
     "regions": {
      "a73227cc-9cc5-4280-8650-ecd8c79d73e8": {
       "attrs": {
        "height": 0.8,
        "width": 0.8,
        "x": 0.1,
        "y": 0.1
       },
       "content": {
        "cell": "fa0de34a-e7a2-4882-a705-9d1883d0c7d5",
        "part": "whole"
       },
       "id": "a73227cc-9cc5-4280-8650-ecd8c79d73e8"
      }
     }
    },
    "167eb3bd-3aee-4237-a437-552703462603": {
     "id": "167eb3bd-3aee-4237-a437-552703462603",
     "prev": "b1b6cbf9-d23f-4e26-9b08-d8235b0a3787",
     "regions": {
      "6970cd19-154d-46a3-ba5b-55ff7dbee60c": {
       "attrs": {
        "height": 0.8,
        "width": 0.8,
        "x": 0.1,
        "y": 0.1
       },
       "content": {
        "cell": "618183d4-5a5f-49b5-b609-6934da1c8856",
        "part": "whole"
       },
       "id": "6970cd19-154d-46a3-ba5b-55ff7dbee60c"
      }
     }
    },
    "24b3d4b0-ab2e-42b2-9a09-cbeb37f7e517": {
     "id": "24b3d4b0-ab2e-42b2-9a09-cbeb37f7e517",
     "prev": "5a272661-30c2-43bc-9369-974218ae5746",
     "regions": {
      "5f815c2d-5af2-446a-a4b7-4d489578357f": {
       "attrs": {
        "height": 0.8,
        "width": 0.8,
        "x": 0.1,
        "y": 0.1
       },
       "content": {
        "cell": "1a2d7f5e-0516-4bcf-874b-924234e8af0e",
        "part": "whole"
       },
       "id": "5f815c2d-5af2-446a-a4b7-4d489578357f"
      }
     }
    },
    "278f906d-50d2-4178-9afb-8fe5fcd14825": {
     "id": "278f906d-50d2-4178-9afb-8fe5fcd14825",
     "prev": "5a20cbe7-d5bd-401b-84e6-497e370acd82",
     "regions": {
      "1270c8b4-2672-455c-b132-195083c7fed3": {
       "attrs": {
        "height": 0.8,
        "width": 0.8,
        "x": 0.1,
        "y": 0.1
       },
       "content": {
        "cell": "94fcaf1f-d813-48d0-8181-586ea34baf5c",
        "part": "whole"
       },
       "id": "1270c8b4-2672-455c-b132-195083c7fed3"
      }
     }
    },
    "29954c6a-a00c-41ce-933c-4c5f10df70f8": {
     "id": "29954c6a-a00c-41ce-933c-4c5f10df70f8",
     "prev": "c3d396ce-b491-40be-af77-f06f4108e829",
     "regions": {
      "45e649e8-c987-454d-9633-2101055ee6ae": {
       "attrs": {
        "height": 0.8,
        "width": 0.8,
        "x": 0.1,
        "y": 0.1
       },
       "content": {
        "cell": "dee5c6ba-9e2f-4501-a540-db33dac41b78",
        "part": "whole"
       },
       "id": "45e649e8-c987-454d-9633-2101055ee6ae"
      }
     }
    },
    "32ead371-60e0-4c95-a191-52a3d5ccb0b5": {
     "id": "32ead371-60e0-4c95-a191-52a3d5ccb0b5",
     "prev": "278f906d-50d2-4178-9afb-8fe5fcd14825",
     "regions": {
      "00469e66-539e-41cb-80ce-879e138e1d70": {
       "attrs": {
        "height": 0.8,
        "width": 0.8,
        "x": 0.1,
        "y": 0.1
       },
       "content": {
        "cell": "b7aed354-8546-4d2e-9ce0-301fdc9f362f",
        "part": "whole"
       },
       "id": "00469e66-539e-41cb-80ce-879e138e1d70"
      }
     }
    },
    "343470ab-8c83-49b4-9920-450106db0f75": {
     "id": "343470ab-8c83-49b4-9920-450106db0f75",
     "prev": "730527fc-f21d-4388-9fcc-a6b9a3d9f3ea",
     "regions": {
      "fedfcfbc-1261-42a9-9676-82ab9f7249a2": {
       "attrs": {
        "height": 0.8,
        "width": 0.8,
        "x": 0.1,
        "y": 0.1
       },
       "content": {
        "cell": "d5c2badf-3ad2-441e-a9cb-86b548d59603",
        "part": "whole"
       },
       "id": "fedfcfbc-1261-42a9-9676-82ab9f7249a2"
      }
     }
    },
    "3be77394-6e8d-480d-bb65-2f80f510c1a1": {
     "id": "3be77394-6e8d-480d-bb65-2f80f510c1a1",
     "prev": "9a8c23d6-479a-4f3b-ab78-ce0c9d0fcc3d",
     "regions": {
      "96526adb-b802-471b-b142-11fe549104ea": {
       "attrs": {
        "height": 0.8,
        "width": 0.8,
        "x": 0.1,
        "y": 0.1
       },
       "content": {
        "cell": "c5050295-59c8-45b5-9f3f-d90f06aed20c",
        "part": "whole"
       },
       "id": "96526adb-b802-471b-b142-11fe549104ea"
      }
     }
    },
    "4afa032c-7df8-4e6f-b76b-ca6c5a27545f": {
     "id": "4afa032c-7df8-4e6f-b76b-ca6c5a27545f",
     "prev": "c22af070-1a14-4772-af68-51dbf7cf6f38",
     "regions": {
      "5a696112-bf45-43ac-878a-8a56cd631981": {
       "attrs": {
        "height": 0.8,
        "width": 0.8,
        "x": 0.1,
        "y": 0.1
       },
       "content": {
        "cell": "4eacb205-4e8c-4de4-b4f9-3235fe46b469",
        "part": "whole"
       },
       "id": "5a696112-bf45-43ac-878a-8a56cd631981"
      }
     }
    },
    "4d3fe44b-5899-4266-b924-5ad011ce3597": {
     "id": "4d3fe44b-5899-4266-b924-5ad011ce3597",
     "prev": "99c31603-caf3-41d5-ba35-e1be3eb78776",
     "regions": {
      "2cf95aaf-1140-4c7a-9150-6995db1a778a": {
       "attrs": {
        "height": 0.8,
        "width": 0.8,
        "x": 0.1,
        "y": 0.1
       },
       "content": {
        "cell": "591f7f09-7fb9-4b4b-b041-f81022794562",
        "part": "whole"
       },
       "id": "2cf95aaf-1140-4c7a-9150-6995db1a778a"
      }
     }
    },
    "4f48fb12-3b2b-46aa-ad70-2b2e90bd8901": {
     "id": "4f48fb12-3b2b-46aa-ad70-2b2e90bd8901",
     "prev": "0160f145-0229-46dc-afc6-13091e258440",
     "regions": {
      "a7ca4df9-ccb9-488a-91f4-f6a3cbe3e3c5": {
       "attrs": {
        "height": 0.8,
        "width": 0.8,
        "x": 0.1,
        "y": 0.1
       },
       "content": {
        "cell": "25ef71a5-1c6c-4335-a91f-0b1f0b9f043e",
        "part": "whole"
       },
       "id": "a7ca4df9-ccb9-488a-91f4-f6a3cbe3e3c5"
      }
     }
    },
    "52c99be6-0e7a-4426-b3dd-9b66baa30341": {
     "id": "52c99be6-0e7a-4426-b3dd-9b66baa30341",
     "prev": "cb2a67df-4a3d-44a0-8ecd-e6f5aeb95fb0",
     "regions": {
      "00616c2c-4039-4285-b4e9-0483fd7459c9": {
       "attrs": {
        "height": 0.8,
        "width": 0.8,
        "x": 0.1,
        "y": 0.1
       },
       "content": {
        "cell": "4ce09c0b-f91d-4355-9559-ce7e73ddef39",
        "part": "whole"
       },
       "id": "00616c2c-4039-4285-b4e9-0483fd7459c9"
      }
     }
    },
    "5494c98d-66d7-4fdf-b051-d2be823de876": {
     "id": "5494c98d-66d7-4fdf-b051-d2be823de876",
     "prev": "a9a98f7e-4936-40b5-a5fd-bc580fc7dc44",
     "regions": {
      "d3aaa800-6e63-4250-a41c-f510ae0e3e5e": {
       "attrs": {
        "height": 0.8,
        "width": 0.8,
        "x": 0.1,
        "y": 0.1
       },
       "content": {
        "cell": "48a08bdd-2027-47d2-bf55-0f497388fdc9",
        "part": "whole"
       },
       "id": "d3aaa800-6e63-4250-a41c-f510ae0e3e5e"
      }
     }
    },
    "5620b932-9125-4ee2-b092-98b108f881e6": {
     "id": "5620b932-9125-4ee2-b092-98b108f881e6",
     "prev": "11cc6928-8158-43f4-911c-97d1dd015b9f",
     "regions": {
      "7005b977-a88e-44d5-9b2b-525d2ccb23e8": {
       "attrs": {
        "height": 0.8,
        "width": 0.8,
        "x": 0.1,
        "y": 0.1
       },
       "content": {
        "cell": "75e98726-166f-4b0e-8b05-e34fc2985c89",
        "part": "whole"
       },
       "id": "7005b977-a88e-44d5-9b2b-525d2ccb23e8"
      }
     }
    },
    "578d7568-35d7-4a70-ade5-ffb43807b82f": {
     "id": "578d7568-35d7-4a70-ade5-ffb43807b82f",
     "prev": "4d3fe44b-5899-4266-b924-5ad011ce3597",
     "regions": {
      "c7cacd37-6eba-40b9-964a-3daf3fc40d83": {
       "attrs": {
        "height": 0.8,
        "width": 0.8,
        "x": 0.1,
        "y": 0.1
       },
       "content": {
        "cell": "9d373777-c9c7-46aa-b9da-0ace466676bc",
        "part": "whole"
       },
       "id": "c7cacd37-6eba-40b9-964a-3daf3fc40d83"
      }
     }
    },
    "5a20cbe7-d5bd-401b-84e6-497e370acd82": {
     "id": "5a20cbe7-d5bd-401b-84e6-497e370acd82",
     "prev": "9176ca75-f4b8-414f-8319-6fc29fa87a9e",
     "regions": {
      "271fca07-12ce-4949-9370-4c5d5195f919": {
       "attrs": {
        "height": 0.8,
        "width": 0.8,
        "x": 0.1,
        "y": 0.1
       },
       "content": {
        "cell": "77ccac62-8e7f-4727-a10f-026bc59ec2f3",
        "part": "whole"
       },
       "id": "271fca07-12ce-4949-9370-4c5d5195f919"
      }
     }
    },
    "5a272661-30c2-43bc-9369-974218ae5746": {
     "id": "5a272661-30c2-43bc-9369-974218ae5746",
     "prev": "11754688-9ff2-4cd7-92e2-c7de4c8842bf",
     "regions": {
      "6a067b0c-23ce-4a63-9d69-6ccb301a6333": {
       "attrs": {
        "height": 0.8,
        "width": 0.8,
        "x": 0.1,
        "y": 0.1
       },
       "content": {
        "cell": "120ab16c-d51d-4170-809d-9cd6d56dec46",
        "part": "whole"
       },
       "id": "6a067b0c-23ce-4a63-9d69-6ccb301a6333"
      }
     }
    },
    "5a3adf13-d32f-4b8c-b98c-3b326b162136": {
     "id": "5a3adf13-d32f-4b8c-b98c-3b326b162136",
     "prev": "4afa032c-7df8-4e6f-b76b-ca6c5a27545f",
     "regions": {
      "a4d9d606-e643-4c4c-be98-1e69b9a0184f": {
       "attrs": {
        "height": 0.8,
        "width": 0.8,
        "x": 0.1,
        "y": 0.1
       },
       "content": {
        "cell": "48d4aaf0-a8f6-498e-b840-7d7ead18bf70",
        "part": "whole"
       },
       "id": "a4d9d606-e643-4c4c-be98-1e69b9a0184f"
      }
     }
    },
    "5b1eb8ba-d04e-4b23-aaa5-2ab5a2533913": {
     "id": "5b1eb8ba-d04e-4b23-aaa5-2ab5a2533913",
     "prev": "b85f2754-5eb3-4d35-a893-d773f9dc4f17",
     "regions": {
      "80fc890b-82e2-4f88-85ca-c1b6afada4f3": {
       "attrs": {
        "height": 0.8,
        "width": 0.8,
        "x": 0.1,
        "y": 0.1
       },
       "content": {
        "cell": "4db2baca-b70e-4ea3-a605-b7ae4791a5c7",
        "part": "whole"
       },
       "id": "80fc890b-82e2-4f88-85ca-c1b6afada4f3"
      }
     }
    },
    "5e7ca7da-4187-4903-bbfd-b0c0b0fe21e1": {
     "id": "5e7ca7da-4187-4903-bbfd-b0c0b0fe21e1",
     "prev": "71103cbd-b139-4c76-83b5-eb30f308a5b2",
     "regions": {
      "af01a4c2-11f7-49de-bfeb-f38b4daefe76": {
       "attrs": {
        "height": 0.8,
        "width": 0.8,
        "x": 0.1,
        "y": 0.1
       },
       "content": {
        "cell": "e6edb901-613c-4b6a-9148-86a44b377330",
        "part": "whole"
       },
       "id": "af01a4c2-11f7-49de-bfeb-f38b4daefe76"
      }
     }
    },
    "6572e09d-ead0-4774-bd1b-cc218dc63730": {
     "id": "6572e09d-ead0-4774-bd1b-cc218dc63730",
     "prev": "29954c6a-a00c-41ce-933c-4c5f10df70f8",
     "regions": {
      "0ad985dc-0e8a-4498-bc42-1934d4a1425e": {
       "attrs": {
        "height": 0.8,
        "width": 0.8,
        "x": 0.1,
        "y": 0.1
       },
       "content": {
        "cell": "efc07ecf-c9a8-4338-80d3-5e4bc8dfb13f",
        "part": "whole"
       },
       "id": "0ad985dc-0e8a-4498-bc42-1934d4a1425e"
      }
     }
    },
    "65a1aee7-6efb-45b1-ac6d-f1c32b44fef8": {
     "id": "65a1aee7-6efb-45b1-ac6d-f1c32b44fef8",
     "prev": "5e7ca7da-4187-4903-bbfd-b0c0b0fe21e1",
     "regions": {
      "86a35978-bd11-4928-8773-65cab88cf394": {
       "attrs": {
        "height": 0.8,
        "width": 0.8,
        "x": 0.1,
        "y": 0.1
       },
       "content": {
        "cell": "67e5d590-b30c-4ae2-b48d-492d9ddbd104",
        "part": "whole"
       },
       "id": "86a35978-bd11-4928-8773-65cab88cf394"
      }
     }
    },
    "6b0f0c36-71e3-46f7-8752-c3bcb568ff6b": {
     "id": "6b0f0c36-71e3-46f7-8752-c3bcb568ff6b",
     "prev": "b66a8adf-911e-45e2-8c04-dc06c241bd27",
     "regions": {
      "9838227f-f63d-438a-80fc-9bb0651f45e3": {
       "attrs": {
        "height": 0.8,
        "width": 0.8,
        "x": 0.1,
        "y": 0.1
       },
       "content": {
        "cell": "18cb98db-5a8e-4a41-a2f5-ca29f351a5d2",
        "part": "whole"
       },
       "id": "9838227f-f63d-438a-80fc-9bb0651f45e3"
      }
     }
    },
    "6bef1222-1cdc-496c-bb61-7c24133b529f": {
     "id": "6bef1222-1cdc-496c-bb61-7c24133b529f",
     "prev": "cf200472-43cb-463b-a64c-e640bd908ac5",
     "regions": {
      "f93667d8-e903-4c98-b7f1-cc8df18e51a6": {
       "attrs": {
        "height": 0.8,
        "width": 0.8,
        "x": 0.1,
        "y": 0.1
       },
       "content": {
        "cell": "fc36318a-7219-49e5-8541-9aa4de91e726",
        "part": "whole"
       },
       "id": "f93667d8-e903-4c98-b7f1-cc8df18e51a6"
      }
     }
    },
    "71103cbd-b139-4c76-83b5-eb30f308a5b2": {
     "id": "71103cbd-b139-4c76-83b5-eb30f308a5b2",
     "prev": "d223824e-c086-4ebe-85d9-5bdd32cb552f",
     "regions": {
      "376c03f2-abd8-45e9-b512-6f10030918f3": {
       "attrs": {
        "height": 0.8,
        "width": 0.8,
        "x": 0.1,
        "y": 0.1
       },
       "content": {
        "cell": "501e6979-1000-4b43-9d1a-5a17524534cf",
        "part": "whole"
       },
       "id": "376c03f2-abd8-45e9-b512-6f10030918f3"
      }
     }
    },
    "730527fc-f21d-4388-9fcc-a6b9a3d9f3ea": {
     "id": "730527fc-f21d-4388-9fcc-a6b9a3d9f3ea",
     "prev": "d9b90906-f06d-48a2-b117-9b13fa0c72d4",
     "regions": {
      "fb5b7ae0-ff11-45ec-be29-b19180d568c6": {
       "attrs": {
        "height": 0.8,
        "width": 0.8,
        "x": 0.1,
        "y": 0.1
       },
       "content": {
        "cell": "d5566a9b-6f96-4323-b123-c588c8960209",
        "part": "whole"
       },
       "id": "fb5b7ae0-ff11-45ec-be29-b19180d568c6"
      }
     }
    },
    "81de0056-46ac-411f-87b9-98a89179f599": {
     "id": "81de0056-46ac-411f-87b9-98a89179f599",
     "prev": "32ead371-60e0-4c95-a191-52a3d5ccb0b5",
     "regions": {
      "9fa770f4-095a-41b1-86e8-cd1c5ced3b5e": {
       "attrs": {
        "height": 0.8,
        "width": 0.8,
        "x": 0.1,
        "y": 0.1
       },
       "content": {
        "cell": "2a4c659c-04a7-4ae0-9c5a-73c08576f06e",
        "part": "whole"
       },
       "id": "9fa770f4-095a-41b1-86e8-cd1c5ced3b5e"
      }
     }
    },
    "8673709f-705b-4ff6-8a33-e8586d1dc761": {
     "id": "8673709f-705b-4ff6-8a33-e8586d1dc761",
     "prev": "06e423d5-e3cb-46f8-8fd7-c97547115555",
     "regions": {
      "42ff4fe1-b3bd-40ba-90fa-d121f29343c3": {
       "attrs": {
        "height": 0.8,
        "width": 0.8,
        "x": 0.1,
        "y": 0.1
       },
       "content": {
        "cell": "5014671c-372f-4b80-bb24-a80acf6a4f51",
        "part": "whole"
       },
       "id": "42ff4fe1-b3bd-40ba-90fa-d121f29343c3"
      }
     }
    },
    "8d0a121d-a75b-42aa-9c58-a973865bc22a": {
     "id": "8d0a121d-a75b-42aa-9c58-a973865bc22a",
     "prev": "106e030c-8f5a-4454-b89d-4e94d3184896",
     "regions": {
      "60804e23-4732-4f52-b655-501a982db305": {
       "attrs": {
        "height": 0.8,
        "width": 0.8,
        "x": 0.1,
        "y": 0.1
       },
       "content": {
        "cell": "f120fec4-5ee4-4a0c-826a-fbacbdfefcde",
        "part": "whole"
       },
       "id": "60804e23-4732-4f52-b655-501a982db305"
      }
     }
    },
    "8ef66261-2efe-4d5a-ad6d-4ed3771b268c": {
     "id": "8ef66261-2efe-4d5a-ad6d-4ed3771b268c",
     "prev": "07940a05-ff3a-4c51-81ca-61d065bf73c0",
     "regions": {
      "e38a30d1-e5e3-49ff-af3e-a978c71f87ca": {
       "attrs": {
        "height": 0.8,
        "width": 0.8,
        "x": 0.1,
        "y": 0.1
       },
       "content": {
        "cell": "3c253fc6-91f5-4e03-b4de-5d9ccf228639",
        "part": "whole"
       },
       "id": "e38a30d1-e5e3-49ff-af3e-a978c71f87ca"
      }
     }
    },
    "9176ca75-f4b8-414f-8319-6fc29fa87a9e": {
     "id": "9176ca75-f4b8-414f-8319-6fc29fa87a9e",
     "prev": null,
     "regions": {
      "0d5648c0-e9fd-46e9-a7c6-dd5412a4bba9": {
       "attrs": {
        "height": 0.8,
        "width": 0.8,
        "x": 0.1,
        "y": 0.1
       },
       "content": {
        "cell": "5ddb3ce0-6708-4097-81ff-51dd116f336c",
        "part": "whole"
       },
       "id": "0d5648c0-e9fd-46e9-a7c6-dd5412a4bba9"
      }
     }
    },
    "99c31603-caf3-41d5-ba35-e1be3eb78776": {
     "id": "99c31603-caf3-41d5-ba35-e1be3eb78776",
     "prev": "52c99be6-0e7a-4426-b3dd-9b66baa30341",
     "regions": {
      "7d0001a0-6db0-451c-b434-44b579f9a7e5": {
       "attrs": {
        "height": 0.8,
        "width": 0.8,
        "x": 0.1,
        "y": 0.1
       },
       "content": {
        "cell": "e8eec465-9bf1-427d-b068-ab005aed0280",
        "part": "whole"
       },
       "id": "7d0001a0-6db0-451c-b434-44b579f9a7e5"
      }
     }
    },
    "9a8c23d6-479a-4f3b-ab78-ce0c9d0fcc3d": {
     "id": "9a8c23d6-479a-4f3b-ab78-ce0c9d0fcc3d",
     "prev": "8673709f-705b-4ff6-8a33-e8586d1dc761",
     "regions": {
      "6f2205c2-2406-4ee1-a5d5-da2022743dfa": {
       "attrs": {
        "height": 0.8,
        "width": 0.8,
        "x": 0.1,
        "y": 0.1
       },
       "content": {
        "cell": "8610f203-a0d5-480d-a5f3-6abc2dad1b44",
        "part": "whole"
       },
       "id": "6f2205c2-2406-4ee1-a5d5-da2022743dfa"
      }
     }
    },
    "9e11f3cd-d292-4936-a0ad-9882a711560d": {
     "id": "9e11f3cd-d292-4936-a0ad-9882a711560d",
     "prev": "aae7150f-d16a-4f7e-85b3-921a07965ab7",
     "regions": {
      "6b851ea4-9227-4257-98fa-e516ac93df8d": {
       "attrs": {
        "height": 0.8,
        "width": 0.8,
        "x": 0.1,
        "y": 0.1
       },
       "content": {
        "cell": "0761cba4-03b9-4bb5-aabe-507d66c25131",
        "part": "whole"
       },
       "id": "6b851ea4-9227-4257-98fa-e516ac93df8d"
      }
     }
    },
    "a0a5edaf-ee36-4e36-9d91-ca44b1396e74": {
     "id": "a0a5edaf-ee36-4e36-9d91-ca44b1396e74",
     "prev": "f2fe4ce2-11a2-4407-859e-319498621372",
     "regions": {
      "d565de4c-ddcf-4062-b913-22247e53c34e": {
       "attrs": {
        "height": 0.8,
        "width": 0.8,
        "x": 0.1,
        "y": 0.1
       },
       "content": {
        "cell": "54977d9b-6263-4f14-ae74-7877cb02d2c6",
        "part": "whole"
       },
       "id": "d565de4c-ddcf-4062-b913-22247e53c34e"
      }
     }
    },
    "a816ed91-9f86-4db7-bff6-371cbfb9895d": {
     "id": "a816ed91-9f86-4db7-bff6-371cbfb9895d",
     "prev": "efa46c90-21c0-4320-b533-b5595a00df53",
     "regions": {
      "20b7c2d4-a40e-413f-8f38-d17cfe203305": {
       "attrs": {
        "height": 0.8,
        "width": 0.8,
        "x": 0.1,
        "y": 0.1
       },
       "content": {
        "cell": "42d14e36-c624-45b7-be51-d3c8e9aeb1eb",
        "part": "whole"
       },
       "id": "20b7c2d4-a40e-413f-8f38-d17cfe203305"
      }
     }
    },
    "a9a98f7e-4936-40b5-a5fd-bc580fc7dc44": {
     "id": "a9a98f7e-4936-40b5-a5fd-bc580fc7dc44",
     "prev": "8ef66261-2efe-4d5a-ad6d-4ed3771b268c",
     "regions": {
      "ac8f900b-bc67-4fa3-9a4e-4dbdb97c1bec": {
       "attrs": {
        "height": 0.8,
        "width": 0.8,
        "x": 0.1,
        "y": 0.1
       },
       "content": {
        "cell": "451604ad-5648-41ac-8c13-d277ae45ca70",
        "part": "whole"
       },
       "id": "ac8f900b-bc67-4fa3-9a4e-4dbdb97c1bec"
      }
     }
    },
    "aae7150f-d16a-4f7e-85b3-921a07965ab7": {
     "id": "aae7150f-d16a-4f7e-85b3-921a07965ab7",
     "prev": "4f48fb12-3b2b-46aa-ad70-2b2e90bd8901",
     "regions": {
      "eccd1589-6e81-4de2-849b-ac47ba795612": {
       "attrs": {
        "height": 0.8,
        "width": 0.8,
        "x": 0.1,
        "y": 0.1
       },
       "content": {
        "cell": "762e81d6-d7eb-457e-a46d-aa93ea191f8f",
        "part": "whole"
       },
       "id": "eccd1589-6e81-4de2-849b-ac47ba795612"
      }
     }
    },
    "b1b6cbf9-d23f-4e26-9b08-d8235b0a3787": {
     "id": "b1b6cbf9-d23f-4e26-9b08-d8235b0a3787",
     "prev": "5b1eb8ba-d04e-4b23-aaa5-2ab5a2533913",
     "regions": {
      "4b23e195-dc82-45ca-97f5-5d6f6942bef3": {
       "attrs": {
        "height": 0.8,
        "width": 0.8,
        "x": 0.1,
        "y": 0.1
       },
       "content": {
        "cell": "f3bdf565-ab63-4db6-b412-4ecb7f7994e1",
        "part": "whole"
       },
       "id": "4b23e195-dc82-45ca-97f5-5d6f6942bef3"
      }
     }
    },
    "b383f28b-411d-4afa-9702-4cc670b44bb0": {
     "id": "b383f28b-411d-4afa-9702-4cc670b44bb0",
     "prev": "9e11f3cd-d292-4936-a0ad-9882a711560d",
     "regions": {
      "faee4b48-ae6a-423f-914b-f71213a8d5dd": {
       "attrs": {
        "height": 0.8,
        "width": 0.8,
        "x": 0.1,
        "y": 0.1
       },
       "content": {
        "cell": "a7476463-076b-4374-892a-166724f095e9",
        "part": "whole"
       },
       "id": "faee4b48-ae6a-423f-914b-f71213a8d5dd"
      }
     }
    },
    "b66a8adf-911e-45e2-8c04-dc06c241bd27": {
     "id": "b66a8adf-911e-45e2-8c04-dc06c241bd27",
     "prev": "b383f28b-411d-4afa-9702-4cc670b44bb0",
     "regions": {
      "1fe8a001-323d-41ca-bbdd-68fe8ff7449b": {
       "attrs": {
        "height": 0.8,
        "width": 0.8,
        "x": 0.1,
        "y": 0.1
       },
       "content": {
        "cell": "11c71a60-ca73-455b-85d6-d21bf79ba1c7",
        "part": "whole"
       },
       "id": "1fe8a001-323d-41ca-bbdd-68fe8ff7449b"
      }
     }
    },
    "b85f2754-5eb3-4d35-a893-d773f9dc4f17": {
     "id": "b85f2754-5eb3-4d35-a893-d773f9dc4f17",
     "prev": "5620b932-9125-4ee2-b092-98b108f881e6",
     "regions": {
      "34bd62f9-43e9-4492-87aa-0db27ce32eb8": {
       "attrs": {
        "height": 0.8,
        "width": 0.8,
        "x": 0.1,
        "y": 0.1
       },
       "content": {
        "cell": "c58d3727-ff04-4f7a-b96e-82aa4232dc95",
        "part": "whole"
       },
       "id": "34bd62f9-43e9-4492-87aa-0db27ce32eb8"
      }
     }
    },
    "c22af070-1a14-4772-af68-51dbf7cf6f38": {
     "id": "c22af070-1a14-4772-af68-51dbf7cf6f38",
     "prev": "6b0f0c36-71e3-46f7-8752-c3bcb568ff6b",
     "regions": {
      "0457dda0-7779-4c82-bacd-ad2eba1cbdf9": {
       "attrs": {
        "height": 0.8,
        "width": 0.8,
        "x": 0.1,
        "y": 0.1
       },
       "content": {
        "cell": "f5c8facc-3127-4bed-abb0-124b32478622",
        "part": "whole"
       },
       "id": "0457dda0-7779-4c82-bacd-ad2eba1cbdf9"
      }
     }
    },
    "c3d396ce-b491-40be-af77-f06f4108e829": {
     "id": "c3d396ce-b491-40be-af77-f06f4108e829",
     "prev": "a816ed91-9f86-4db7-bff6-371cbfb9895d",
     "regions": {
      "dceda428-9ef5-46c4-a96f-7f97b7422daa": {
       "attrs": {
        "height": 0.8,
        "width": 0.8,
        "x": 0.1,
        "y": 0.1
       },
       "content": {
        "cell": "54041b59-44e3-4440-9be1-23814f35097d",
        "part": "whole"
       },
       "id": "dceda428-9ef5-46c4-a96f-7f97b7422daa"
      }
     }
    },
    "cb2a67df-4a3d-44a0-8ecd-e6f5aeb95fb0": {
     "id": "cb2a67df-4a3d-44a0-8ecd-e6f5aeb95fb0",
     "prev": "f7374287-9cab-4569-881e-331ad141a11f",
     "regions": {
      "855bab93-f551-47f1-b1cc-6587dd57185c": {
       "attrs": {
        "height": 0.8,
        "width": 0.8,
        "x": 0.1,
        "y": 0.1
       },
       "content": {
        "cell": "08e7f28d-f062-42e9-b7f1-f3675f691a34",
        "part": "whole"
       },
       "id": "855bab93-f551-47f1-b1cc-6587dd57185c"
      }
     }
    },
    "cf200472-43cb-463b-a64c-e640bd908ac5": {
     "id": "cf200472-43cb-463b-a64c-e640bd908ac5",
     "prev": "8d0a121d-a75b-42aa-9c58-a973865bc22a",
     "regions": {
      "794ea137-7362-4ad3-97cf-60ab66559eb7": {
       "attrs": {
        "height": 0.8,
        "width": 0.8,
        "x": 0.1,
        "y": 0.1
       },
       "content": {
        "cell": "bcf7b19b-bc66-49f5-8b75-265537be9724",
        "part": "whole"
       },
       "id": "794ea137-7362-4ad3-97cf-60ab66559eb7"
      }
     }
    },
    "d223824e-c086-4ebe-85d9-5bdd32cb552f": {
     "id": "d223824e-c086-4ebe-85d9-5bdd32cb552f",
     "prev": "343470ab-8c83-49b4-9920-450106db0f75",
     "regions": {
      "610ecff6-61d7-44fe-9359-c015dffa6304": {
       "attrs": {
        "height": 0.8,
        "width": 0.8,
        "x": 0.1,
        "y": 0.1
       },
       "content": {
        "cell": "646c7986-9d57-4c90-aed8-45a6cba0d0a0",
        "part": "whole"
       },
       "id": "610ecff6-61d7-44fe-9359-c015dffa6304"
      }
     }
    },
    "d9b90906-f06d-48a2-b117-9b13fa0c72d4": {
     "id": "d9b90906-f06d-48a2-b117-9b13fa0c72d4",
     "prev": "167eb3bd-3aee-4237-a437-552703462603",
     "regions": {
      "90dffb70-0564-4af1-81e5-7dcf83847ff9": {
       "attrs": {
        "height": 0.8,
        "width": 0.8,
        "x": 0.1,
        "y": 0.1
       },
       "content": {
        "cell": "4309a53e-4e90-4fa9-a5b6-afb930091cea",
        "part": "whole"
       },
       "id": "90dffb70-0564-4af1-81e5-7dcf83847ff9"
      }
     }
    },
    "efa46c90-21c0-4320-b533-b5595a00df53": {
     "id": "efa46c90-21c0-4320-b533-b5595a00df53",
     "prev": "5494c98d-66d7-4fdf-b051-d2be823de876",
     "regions": {
      "628cc159-c1e7-4093-ab13-b430a3b34155": {
       "attrs": {
        "height": 0.8,
        "width": 0.8,
        "x": 0.1,
        "y": 0.1
       },
       "content": {
        "cell": "ceaa9036-5305-482c-88a9-32a41a9e3e9b",
        "part": "whole"
       },
       "id": "628cc159-c1e7-4093-ab13-b430a3b34155"
      }
     }
    },
    "f2fe4ce2-11a2-4407-859e-319498621372": {
     "id": "f2fe4ce2-11a2-4407-859e-319498621372",
     "prev": "65a1aee7-6efb-45b1-ac6d-f1c32b44fef8",
     "regions": {
      "79bd15f8-0a1e-4b9f-af75-4b3d5c64f46e": {
       "attrs": {
        "height": 0.8,
        "width": 0.8,
        "x": 0.1,
        "y": 0.1
       },
       "content": {
        "cell": "30085f01-a1f9-4571-94c8-0cf6ab62b16d",
        "part": "whole"
       },
       "id": "79bd15f8-0a1e-4b9f-af75-4b3d5c64f46e"
      }
     }
    },
    "f7374287-9cab-4569-881e-331ad141a11f": {
     "id": "f7374287-9cab-4569-881e-331ad141a11f",
     "prev": "24b3d4b0-ab2e-42b2-9a09-cbeb37f7e517",
     "regions": {
      "27745f9b-360e-4ab9-a00b-0a5c5fca80a2": {
       "attrs": {
        "height": 0.8,
        "width": 0.8,
        "x": 0.1,
        "y": 0.1
       },
       "content": {
        "cell": "878d8b86-2040-4d54-ab16-eb27be4e0c11",
        "part": "whole"
       },
       "id": "27745f9b-360e-4ab9-a00b-0a5c5fca80a2"
      }
     }
    }
   },
   "themes": {}
  }
 },
 "nbformat": 4,
 "nbformat_minor": 0
}
